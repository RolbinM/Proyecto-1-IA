{
 "cells": [
  {
   "cell_type": "markdown",
   "metadata": {},
   "source": [
    "## Redes Neuronales\n",
    "#### Dataset \"Diabetes\""
   ]
  },
  {
   "cell_type": "markdown",
   "metadata": {},
   "source": [
    "Hacemos las importaciones de librerias para la red neuronal"
   ]
  },
  {
   "cell_type": "code",
   "execution_count": 27,
   "metadata": {},
   "outputs": [],
   "source": [
    "import pandas as pd\n",
    "from sklearn.model_selection import train_test_split\n",
    "from sklearn.preprocessing import StandardScaler\n",
    "from sklearn.neural_network import MLPClassifier\n",
    "from sklearn.metrics import accuracy_score, precision_score, recall_score"
   ]
  },
  {
   "cell_type": "markdown",
   "metadata": {},
   "source": [
    "En esta sección podremos definir los hiper parametros con los que va a trabajar la red neuronal"
   ]
  },
  {
   "cell_type": "code",
   "execution_count": 28,
   "metadata": {},
   "outputs": [],
   "source": [
    "# Hiperparámetros\n",
    "hidden_layer_sizes = (100, 100, 100)\n",
    "batch_size = 64\n",
    "learning_rate_init = 0.001\n",
    "max_iter = 10\n",
    "random_state = 42"
   ]
  },
  {
   "cell_type": "markdown",
   "metadata": {},
   "source": [
    "Posteriormente cargamos el CSV de Diabetes y definimos la cantidad de datos en el train y en el test"
   ]
  },
  {
   "cell_type": "code",
   "execution_count": 29,
   "metadata": {},
   "outputs": [],
   "source": [
    "# Cargar los datos\n",
    "df = pd.read_csv('Diabetes.csv')\n",
    "\n",
    "# Dividir los datos en características (X) y etiquetas (y)\n",
    "X = df.drop('Outcome', axis=1)\n",
    "y = df['Outcome']\n",
    "\n",
    "# Submuestreo: Definirles la media a los datos con Outcome igual a 0\n",
    "X_train_0 = X[y == 0].sample(n=sum(y == 1), random_state=random_state)\n",
    "X_train_1 = X[y == 1]\n",
    "y_train_0 = pd.Series([0] * len(X_train_0), name='Outcome')\n",
    "y_train_1 = pd.Series([1] * len(X_train_1), name='Outcome')\n",
    "\n",
    "# Unir los datos de entrenamiento balanceados\n",
    "X_train_balanced = pd.concat([X_train_0, X_train_1])\n",
    "y_train_balanced = pd.concat([y_train_0, y_train_1])\n",
    "\n",
    "# Dividir los datos en conjunto de entrenamiento y prueba\n",
    "X_train, X_test, y_train, y_test = train_test_split(X_train_balanced, y_train_balanced, test_size=0.2, random_state=random_state)\n",
    "\n",
    "# Normalizar los datos\n",
    "scaler = StandardScaler()\n",
    "X_train_scaled = scaler.fit_transform(X_train)\n",
    "X_test_scaled = scaler.transform(X_test)\n"
   ]
  },
  {
   "cell_type": "markdown",
   "metadata": {},
   "source": [
    "Finalmente definimos el modelo de aprendizaje y realizamos la predicción en el conjunto de datos de test para verificar que tan predecible fue el modelo entrenado"
   ]
  },
  {
   "cell_type": "code",
   "execution_count": 30,
   "metadata": {},
   "outputs": [
    {
     "name": "stderr",
     "output_type": "stream",
     "text": [
      "c:\\Users\\rolbi\\AppData\\Local\\Programs\\Python\\Python311\\Lib\\site-packages\\sklearn\\neural_network\\_multilayer_perceptron.py:691: ConvergenceWarning: Stochastic Optimizer: Maximum iterations (10) reached and the optimization hasn't converged yet.\n",
      "  warnings.warn(\n"
     ]
    }
   ],
   "source": [
    "# Entrenar el modelo MLPClassifier\n",
    "model = MLPClassifier(hidden_layer_sizes=hidden_layer_sizes,\n",
    "                      batch_size=batch_size,\n",
    "                      learning_rate_init=learning_rate_init,\n",
    "                      max_iter=max_iter,\n",
    "                      random_state=random_state)\n",
    "model.fit(X_train_scaled, y_train)\n",
    "\n",
    "# Realizar predicciones\n",
    "y_pred = model.predict(X_test_scaled)"
   ]
  },
  {
   "cell_type": "markdown",
   "metadata": {},
   "source": [
    "Por último, obtenemos las diferentes metricas y ver que valores nos brinda el modelo que vamos a analizarlas más a detalle"
   ]
  },
  {
   "cell_type": "code",
   "execution_count": 31,
   "metadata": {},
   "outputs": [
    {
     "name": "stdout",
     "output_type": "stream",
     "text": [
      "Accuracy: 0.7962962962962963\n",
      "Precision: 0.7547169811320755\n",
      "Recall: 0.8163265306122449\n"
     ]
    }
   ],
   "source": [
    "# Calcular métricas de evaluación\n",
    "accuracy = accuracy_score(y_test, y_pred)\n",
    "precision = precision_score(y_test, y_pred)\n",
    "recall = recall_score(y_test, y_pred)\n",
    "\n",
    "# Imprimir métricas de evaluación\n",
    "print(\"Accuracy:\", accuracy)\n",
    "print(\"Precision:\", precision)\n",
    "print(\"Recall:\", recall)"
   ]
  },
  {
   "cell_type": "code",
   "execution_count": null,
   "metadata": {},
   "outputs": [],
   "source": []
  }
 ],
 "metadata": {
  "kernelspec": {
   "display_name": "Python 3",
   "language": "python",
   "name": "python3"
  },
  "language_info": {
   "codemirror_mode": {
    "name": "ipython",
    "version": 3
   },
   "file_extension": ".py",
   "mimetype": "text/x-python",
   "name": "python",
   "nbconvert_exporter": "python",
   "pygments_lexer": "ipython3",
   "version": "3.11.4"
  }
 },
 "nbformat": 4,
 "nbformat_minor": 2
}
